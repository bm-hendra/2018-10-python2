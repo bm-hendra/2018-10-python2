{
 "cells": [
  {
   "cell_type": "markdown",
   "metadata": {},
   "source": [
    "- The dataset is of default and non-defaulted payments in Taiwan - subset to use here in our training.\n",
    "- The aim of this exercise is to classify default using the covariates\n",
    "- Use the skills you have learned, and have enough materials to convince your ED (Helene Weiner) this model is fit to share with a client\n",
    "- The winner, based purely on accuracy classification score, will win a tantalizing prize!"
   ]
  },
  {
   "cell_type": "markdown",
   "metadata": {},
   "source": [
    "Data set description:\n",
    "\n",
    "From the UCI Machine Lerning Repository:\n",
    "\n",
    "https://archive.ics.uci.edu/ml/datasets/default+of+credit+card+clients\n",
    "\n",
    "Yeh, I. C., & Lien, C. H. (2009). The comparisons of data mining techniques for the predictive accuracy of probability of default of credit card clients. Expert Systems with Applications, 36(2), 2473-2480.\n",
    "\n",
    "Attribute Information:\n",
    "\n",
    "This research employed a binary variable, default payment (Yes = 1, No = 0), as the response variable. This study reviewed the literature and used the following 23 variables as explanatory variables: \n",
    "\n",
    "- X1: Amount of the given credit (NT dollar): it includes both the individual consumer credit and his/her family (supplementary) credit. \n",
    "- X2: Gender (1 = male; 2 = female). \n",
    "- X3: Education (1 = graduate school; 2 = university; 3 = high school; 4 = others). \n",
    "- X4: Marital status (1 = married; 2 = single; 3 = others). \n",
    "- X5: Age (year). \n",
    "- X6 - X11: History of past payment. We tracked the past monthly payment records (from April to September, 2005) as follows: X6 = the repayment status in September, 2005; X7 = the repayment status in August, 2005; . . .;X11 = the repayment status in April, 2005. The measurement scale for the repayment status is: -1 = pay duly; 1 = payment delay for one month; 2 = payment delay for two months; . . .; 8 = payment delay for eight months; 9 = payment delay for nine months and above. \n",
    "- X12-X17: Amount of bill statement (NT dollar). X12 = amount of bill statement in September, 2005; X13 = amount of bill statement in August, 2005; . . .; X17 = amount of bill statement in April, 2005. \n",
    "- X18-X23: Amount of previous payment (NT dollar). X18 = amount paid in September, 2005; X19 = amount paid in August, 2005; . . .;X23 = amount paid in April, 2005. \n",
    "\n"
   ]
  },
  {
   "cell_type": "markdown",
   "metadata": {},
   "source": [
    "# Part 1\n",
    "\n",
    "Load the data into JupyterLab.\n",
    "\n",
    "- Name the dataset rawdata\n",
    "- Show/plot some summaries of the data that could be useful\n"
   ]
  },
  {
   "cell_type": "code",
   "execution_count": 1,
   "metadata": {
    "ExecuteTime": {
     "end_time": "2018-10-22T19:43:00.866553Z",
     "start_time": "2018-10-22T19:43:00.403944Z"
    }
   },
   "outputs": [],
   "source": [
    "import pandas as pd"
   ]
  },
  {
   "cell_type": "code",
   "execution_count": 2,
   "metadata": {
    "ExecuteTime": {
     "end_time": "2018-10-22T19:43:02.099812Z",
     "start_time": "2018-10-22T19:43:00.868866Z"
    }
   },
   "outputs": [],
   "source": [
    "df = pd.read_excel('../data/default of credit card clients vCapstone.xls', header=1)"
   ]
  },
  {
   "cell_type": "code",
   "execution_count": 3,
   "metadata": {
    "ExecuteTime": {
     "end_time": "2018-10-22T19:43:02.137742Z",
     "start_time": "2018-10-22T19:43:02.102319Z"
    }
   },
   "outputs": [
    {
     "data": {
      "text/html": [
       "<div>\n",
       "<style scoped>\n",
       "    .dataframe tbody tr th:only-of-type {\n",
       "        vertical-align: middle;\n",
       "    }\n",
       "\n",
       "    .dataframe tbody tr th {\n",
       "        vertical-align: top;\n",
       "    }\n",
       "\n",
       "    .dataframe thead th {\n",
       "        text-align: right;\n",
       "    }\n",
       "</style>\n",
       "<table border=\"1\" class=\"dataframe\">\n",
       "  <thead>\n",
       "    <tr style=\"text-align: right;\">\n",
       "      <th></th>\n",
       "      <th>ID</th>\n",
       "      <th>LIMIT_BAL</th>\n",
       "      <th>SEX</th>\n",
       "      <th>EDUCATION</th>\n",
       "      <th>MARRIAGE</th>\n",
       "      <th>AGE</th>\n",
       "      <th>Default</th>\n",
       "    </tr>\n",
       "  </thead>\n",
       "  <tbody>\n",
       "    <tr>\n",
       "      <th>0</th>\n",
       "      <td>1</td>\n",
       "      <td>20000</td>\n",
       "      <td>2</td>\n",
       "      <td>2</td>\n",
       "      <td>1</td>\n",
       "      <td>24</td>\n",
       "      <td>1</td>\n",
       "    </tr>\n",
       "    <tr>\n",
       "      <th>1</th>\n",
       "      <td>2</td>\n",
       "      <td>120000</td>\n",
       "      <td>2</td>\n",
       "      <td>2</td>\n",
       "      <td>2</td>\n",
       "      <td>26</td>\n",
       "      <td>1</td>\n",
       "    </tr>\n",
       "    <tr>\n",
       "      <th>2</th>\n",
       "      <td>3</td>\n",
       "      <td>90000</td>\n",
       "      <td>2</td>\n",
       "      <td>2</td>\n",
       "      <td>2</td>\n",
       "      <td>34</td>\n",
       "      <td>0</td>\n",
       "    </tr>\n",
       "    <tr>\n",
       "      <th>3</th>\n",
       "      <td>4</td>\n",
       "      <td>50000</td>\n",
       "      <td>2</td>\n",
       "      <td>2</td>\n",
       "      <td>1</td>\n",
       "      <td>37</td>\n",
       "      <td>0</td>\n",
       "    </tr>\n",
       "    <tr>\n",
       "      <th>4</th>\n",
       "      <td>5</td>\n",
       "      <td>50000</td>\n",
       "      <td>1</td>\n",
       "      <td>2</td>\n",
       "      <td>1</td>\n",
       "      <td>57</td>\n",
       "      <td>0</td>\n",
       "    </tr>\n",
       "  </tbody>\n",
       "</table>\n",
       "</div>"
      ],
      "text/plain": [
       "   ID  LIMIT_BAL  SEX  EDUCATION  MARRIAGE  AGE  Default\n",
       "0   1      20000    2          2         1   24        1\n",
       "1   2     120000    2          2         2   26        1\n",
       "2   3      90000    2          2         2   34        0\n",
       "3   4      50000    2          2         1   37        0\n",
       "4   5      50000    1          2         1   57        0"
      ]
     },
     "execution_count": 3,
     "metadata": {},
     "output_type": "execute_result"
    }
   ],
   "source": [
    "df.head()"
   ]
  },
  {
   "cell_type": "code",
   "execution_count": 4,
   "metadata": {
    "ExecuteTime": {
     "end_time": "2018-10-22T19:43:02.157015Z",
     "start_time": "2018-10-22T19:43:02.142098Z"
    }
   },
   "outputs": [
    {
     "data": {
      "text/plain": [
       "Index(['ID', 'LIMIT_BAL', 'SEX', 'EDUCATION', 'MARRIAGE', 'AGE', 'Default'], dtype='object')"
      ]
     },
     "execution_count": 4,
     "metadata": {},
     "output_type": "execute_result"
    }
   ],
   "source": [
    "df.columns"
   ]
  },
  {
   "cell_type": "code",
   "execution_count": 5,
   "metadata": {
    "ExecuteTime": {
     "end_time": "2018-10-22T19:43:02.660091Z",
     "start_time": "2018-10-22T19:43:02.160325Z"
    }
   },
   "outputs": [],
   "source": [
    "import seaborn as sns"
   ]
  },
  {
   "cell_type": "code",
   "execution_count": 6,
   "metadata": {
    "ExecuteTime": {
     "end_time": "2018-10-22T19:43:02.840362Z",
     "start_time": "2018-10-22T19:43:02.662262Z"
    }
   },
   "outputs": [
    {
     "data": {
      "text/plain": [
       "<matplotlib.axes._subplots.AxesSubplot at 0x7f26d271a4a8>"
      ]
     },
     "execution_count": 6,
     "metadata": {},
     "output_type": "execute_result"
    },
    {
     "data": {
      "image/png": "[encoded data removed]",
      "text/plain": [
       "<Figure size 432x288 with 1 Axes>"
      ]
     },
     "metadata": {
      "needs_background": "light"
     },
     "output_type": "display_data"
    }
   ],
   "source": [
    "sns.countplot(x='Default', data=df)"
   ]
  },
  {
   "cell_type": "code",
   "execution_count": 7,
   "metadata": {
    "ExecuteTime": {
     "end_time": "2018-10-22T19:43:02.852744Z",
     "start_time": "2018-10-22T19:43:02.843344Z"
    }
   },
   "outputs": [],
   "source": [
    "#from sklearn.model_selection import train_test_split"
   ]
  },
  {
   "cell_type": "code",
   "execution_count": 8,
   "metadata": {
    "ExecuteTime": {
     "end_time": "2018-10-22T19:43:02.862198Z",
     "start_time": "2018-10-22T19:43:02.856011Z"
    }
   },
   "outputs": [
    {
     "data": {
      "text/plain": [
       "(30000, 7)"
      ]
     },
     "execution_count": 8,
     "metadata": {},
     "output_type": "execute_result"
    }
   ],
   "source": [
    "df.shape"
   ]
  },
  {
   "cell_type": "code",
   "execution_count": 9,
   "metadata": {
    "ExecuteTime": {
     "end_time": "2018-10-22T19:43:02.877353Z",
     "start_time": "2018-10-22T19:43:02.865163Z"
    }
   },
   "outputs": [
    {
     "data": {
      "text/html": [
       "<div>\n",
       "<style scoped>\n",
       "    .dataframe tbody tr th:only-of-type {\n",
       "        vertical-align: middle;\n",
       "    }\n",
       "\n",
       "    .dataframe tbody tr th {\n",
       "        vertical-align: top;\n",
       "    }\n",
       "\n",
       "    .dataframe thead th {\n",
       "        text-align: right;\n",
       "    }\n",
       "</style>\n",
       "<table border=\"1\" class=\"dataframe\">\n",
       "  <thead>\n",
       "    <tr style=\"text-align: right;\">\n",
       "      <th></th>\n",
       "      <th>ID</th>\n",
       "      <th>LIMIT_BAL</th>\n",
       "      <th>SEX</th>\n",
       "      <th>EDUCATION</th>\n",
       "      <th>MARRIAGE</th>\n",
       "      <th>AGE</th>\n",
       "      <th>Default</th>\n",
       "    </tr>\n",
       "  </thead>\n",
       "  <tbody>\n",
       "    <tr>\n",
       "      <th>0</th>\n",
       "      <td>1</td>\n",
       "      <td>20000</td>\n",
       "      <td>2</td>\n",
       "      <td>2</td>\n",
       "      <td>1</td>\n",
       "      <td>24</td>\n",
       "      <td>1</td>\n",
       "    </tr>\n",
       "    <tr>\n",
       "      <th>1</th>\n",
       "      <td>2</td>\n",
       "      <td>120000</td>\n",
       "      <td>2</td>\n",
       "      <td>2</td>\n",
       "      <td>2</td>\n",
       "      <td>26</td>\n",
       "      <td>1</td>\n",
       "    </tr>\n",
       "    <tr>\n",
       "      <th>2</th>\n",
       "      <td>3</td>\n",
       "      <td>90000</td>\n",
       "      <td>2</td>\n",
       "      <td>2</td>\n",
       "      <td>2</td>\n",
       "      <td>34</td>\n",
       "      <td>0</td>\n",
       "    </tr>\n",
       "    <tr>\n",
       "      <th>3</th>\n",
       "      <td>4</td>\n",
       "      <td>50000</td>\n",
       "      <td>2</td>\n",
       "      <td>2</td>\n",
       "      <td>1</td>\n",
       "      <td>37</td>\n",
       "      <td>0</td>\n",
       "    </tr>\n",
       "    <tr>\n",
       "      <th>4</th>\n",
       "      <td>5</td>\n",
       "      <td>50000</td>\n",
       "      <td>1</td>\n",
       "      <td>2</td>\n",
       "      <td>1</td>\n",
       "      <td>57</td>\n",
       "      <td>0</td>\n",
       "    </tr>\n",
       "  </tbody>\n",
       "</table>\n",
       "</div>"
      ],
      "text/plain": [
       "   ID  LIMIT_BAL  SEX  EDUCATION  MARRIAGE  AGE  Default\n",
       "0   1      20000    2          2         1   24        1\n",
       "1   2     120000    2          2         2   26        1\n",
       "2   3      90000    2          2         2   34        0\n",
       "3   4      50000    2          2         1   37        0\n",
       "4   5      50000    1          2         1   57        0"
      ]
     },
     "execution_count": 9,
     "metadata": {},
     "output_type": "execute_result"
    }
   ],
   "source": [
    "df.head()"
   ]
  },
  {
   "cell_type": "code",
   "execution_count": 10,
   "metadata": {
    "ExecuteTime": {
     "end_time": "2018-10-22T19:43:02.894118Z",
     "start_time": "2018-10-22T19:43:02.879987Z"
    }
   },
   "outputs": [],
   "source": [
    "# pd.qcut(df['AGE'], 3)"
   ]
  },
  {
   "cell_type": "code",
   "execution_count": 11,
   "metadata": {
    "ExecuteTime": {
     "end_time": "2018-10-22T19:43:02.901381Z",
     "start_time": "2018-10-22T19:43:02.898136Z"
    }
   },
   "outputs": [],
   "source": [
    "#df.filter(regex='^BILL').head()"
   ]
  },
  {
   "cell_type": "code",
   "execution_count": 12,
   "metadata": {
    "ExecuteTime": {
     "end_time": "2018-10-22T19:43:02.912264Z",
     "start_time": "2018-10-22T19:43:02.905181Z"
    }
   },
   "outputs": [],
   "source": [
    "df = df.drop(['ID'], 'columns')"
   ]
  },
  {
   "cell_type": "code",
   "execution_count": 13,
   "metadata": {
    "ExecuteTime": {
     "end_time": "2018-10-22T19:43:03.152635Z",
     "start_time": "2018-10-22T19:43:02.916053Z"
    }
   },
   "outputs": [],
   "source": [
    "import statsmodels.formula.api as smf\n",
    "import statsmodels.api as sm\n",
    "\n",
    "#df2 = df.rename({'default payment next month': 'y'}, axis='columns')"
   ]
  },
  {
   "cell_type": "code",
   "execution_count": 14,
   "metadata": {
    "ExecuteTime": {
     "end_time": "2018-10-22T19:43:03.158752Z",
     "start_time": "2018-10-22T19:43:03.155410Z"
    }
   },
   "outputs": [],
   "source": [
    "#df2.head()"
   ]
  },
  {
   "cell_type": "code",
   "execution_count": 15,
   "metadata": {
    "ExecuteTime": {
     "end_time": "2018-10-22T19:43:03.202978Z",
     "start_time": "2018-10-22T19:43:03.161416Z"
    }
   },
   "outputs": [
    {
     "data": {
      "text/html": [
       "<div>\n",
       "<style scoped>\n",
       "    .dataframe tbody tr th:only-of-type {\n",
       "        vertical-align: middle;\n",
       "    }\n",
       "\n",
       "    .dataframe tbody tr th {\n",
       "        vertical-align: top;\n",
       "    }\n",
       "\n",
       "    .dataframe thead th {\n",
       "        text-align: right;\n",
       "    }\n",
       "</style>\n",
       "<table border=\"1\" class=\"dataframe\">\n",
       "  <thead>\n",
       "    <tr style=\"text-align: right;\">\n",
       "      <th></th>\n",
       "      <th>LIMIT_BAL</th>\n",
       "      <th>SEX</th>\n",
       "      <th>EDUCATION</th>\n",
       "      <th>MARRIAGE</th>\n",
       "      <th>AGE</th>\n",
       "      <th>Default</th>\n",
       "    </tr>\n",
       "  </thead>\n",
       "  <tbody>\n",
       "    <tr>\n",
       "      <th>8951</th>\n",
       "      <td>20000</td>\n",
       "      <td>1</td>\n",
       "      <td>3</td>\n",
       "      <td>1</td>\n",
       "      <td>28</td>\n",
       "      <td>0</td>\n",
       "    </tr>\n",
       "    <tr>\n",
       "      <th>16929</th>\n",
       "      <td>60000</td>\n",
       "      <td>1</td>\n",
       "      <td>2</td>\n",
       "      <td>1</td>\n",
       "      <td>52</td>\n",
       "      <td>0</td>\n",
       "    </tr>\n",
       "    <tr>\n",
       "      <th>27392</th>\n",
       "      <td>160000</td>\n",
       "      <td>1</td>\n",
       "      <td>2</td>\n",
       "      <td>1</td>\n",
       "      <td>46</td>\n",
       "      <td>0</td>\n",
       "    </tr>\n",
       "    <tr>\n",
       "      <th>26357</th>\n",
       "      <td>500000</td>\n",
       "      <td>2</td>\n",
       "      <td>1</td>\n",
       "      <td>2</td>\n",
       "      <td>32</td>\n",
       "      <td>0</td>\n",
       "    </tr>\n",
       "    <tr>\n",
       "      <th>29608</th>\n",
       "      <td>40000</td>\n",
       "      <td>1</td>\n",
       "      <td>2</td>\n",
       "      <td>1</td>\n",
       "      <td>40</td>\n",
       "      <td>1</td>\n",
       "    </tr>\n",
       "  </tbody>\n",
       "</table>\n",
       "</div>"
      ],
      "text/plain": [
       "       LIMIT_BAL  SEX  EDUCATION  MARRIAGE  AGE  Default\n",
       "8951       20000    1          3         1   28        0\n",
       "16929      60000    1          2         1   52        0\n",
       "27392     160000    1          2         1   46        0\n",
       "26357     500000    2          1         2   32        0\n",
       "29608      40000    1          2         1   40        1"
      ]
     },
     "execution_count": 15,
     "metadata": {},
     "output_type": "execute_result"
    }
   ],
   "source": [
    "from sklearn.utils import shuffle\n",
    "df = shuffle(df)\n",
    "df.head()"
   ]
  },
  {
   "cell_type": "markdown",
   "metadata": {},
   "source": [
    "# Part 2\n",
    "\n",
    "Subset the data into a training (50%) and test set (50%)\n",
    "\n",
    "- Name them train and test\n",
    "- Show some summaries of the test and train dataset\n"
   ]
  },
  {
   "cell_type": "code",
   "execution_count": 16,
   "metadata": {
    "ExecuteTime": {
     "end_time": "2018-10-22T19:43:03.216193Z",
     "start_time": "2018-10-22T19:43:03.209559Z"
    }
   },
   "outputs": [
    {
     "data": {
      "text/plain": [
       "[1, 2]"
      ]
     },
     "execution_count": 16,
     "metadata": {},
     "output_type": "execute_result"
    }
   ],
   "source": [
    "l = [1, 2, 3, 4]\n",
    "l[:2]"
   ]
  },
  {
   "cell_type": "code",
   "execution_count": 17,
   "metadata": {
    "ExecuteTime": {
     "end_time": "2018-10-22T19:43:03.225532Z",
     "start_time": "2018-10-22T19:43:03.219424Z"
    }
   },
   "outputs": [
    {
     "data": {
      "text/plain": [
       "[3, 4]"
      ]
     },
     "execution_count": 17,
     "metadata": {},
     "output_type": "execute_result"
    }
   ],
   "source": [
    "l[2:]"
   ]
  },
  {
   "cell_type": "code",
   "execution_count": 18,
   "metadata": {
    "ExecuteTime": {
     "end_time": "2018-10-22T19:43:03.233892Z",
     "start_time": "2018-10-22T19:43:03.229298Z"
    }
   },
   "outputs": [],
   "source": [
    "train = df.iloc[:15000]"
   ]
  },
  {
   "cell_type": "code",
   "execution_count": 19,
   "metadata": {
    "ExecuteTime": {
     "end_time": "2018-10-22T19:43:03.242624Z",
     "start_time": "2018-10-22T19:43:03.237595Z"
    }
   },
   "outputs": [],
   "source": [
    "test = df.iloc[15000:]"
   ]
  },
  {
   "cell_type": "markdown",
   "metadata": {},
   "source": [
    "# Part 3\n",
    "\n",
    "Build a logistic regression model on the defaults\n",
    "- What are the coefficients you picked?\n",
    "- Are they significant?\n",
    "- Create a function to calculate accuracy (TP + TN / TP + FP + FN + TN)\n"
   ]
  },
  {
   "cell_type": "code",
   "execution_count": 20,
   "metadata": {
    "ExecuteTime": {
     "end_time": "2018-10-22T19:43:03.255033Z",
     "start_time": "2018-10-22T19:43:03.246453Z"
    }
   },
   "outputs": [
    {
     "data": {
      "text/plain": [
       "'Default ~ LIMIT_BAL + SEX + EDUCATION + MARRIAGE + AGE'"
      ]
     },
     "execution_count": 20,
     "metadata": {},
     "output_type": "execute_result"
    }
   ],
   "source": [
    "\"Default ~ \" + ' + '.join(train.columns[:-1])"
   ]
  },
  {
   "cell_type": "code",
   "execution_count": 21,
   "metadata": {
    "ExecuteTime": {
     "end_time": "2018-10-22T19:43:03.314333Z",
     "start_time": "2018-10-22T19:43:03.258204Z"
    }
   },
   "outputs": [
    {
     "name": "stdout",
     "output_type": "stream",
     "text": [
      "Optimization terminated successfully.\n",
      "         Current function value: 0.513283\n",
      "         Iterations 6\n"
     ]
    }
   ],
   "source": [
    "model = smf.logit(\"Default ~ \" + ' + '.join(train.columns[:-1]), data=train)\n",
    "results = model.fit()"
   ]
  },
  {
   "cell_type": "code",
   "execution_count": 22,
   "metadata": {
    "ExecuteTime": {
     "end_time": "2018-10-22T19:43:03.386786Z",
     "start_time": "2018-10-22T19:43:03.317760Z"
    }
   },
   "outputs": [
    {
     "data": {
      "text/html": [
       "<table class=\"simpletable\">\n",
       "<caption>Logit Regression Results</caption>\n",
       "<tr>\n",
       "  <th>Dep. Variable:</th>      <td>Default</td>     <th>  No. Observations:  </th>  <td> 15000</td>  \n",
       "</tr>\n",
       "<tr>\n",
       "  <th>Model:</th>               <td>Logit</td>      <th>  Df Residuals:      </th>  <td> 14994</td>  \n",
       "</tr>\n",
       "<tr>\n",
       "  <th>Method:</th>               <td>MLE</td>       <th>  Df Model:          </th>  <td>     5</td>  \n",
       "</tr>\n",
       "<tr>\n",
       "  <th>Date:</th>          <td>Mon, 22 Oct 2018</td> <th>  Pseudo R-squ.:     </th>  <td>0.02679</td> \n",
       "</tr>\n",
       "<tr>\n",
       "  <th>Time:</th>              <td>15:43:03</td>     <th>  Log-Likelihood:    </th> <td> -7699.2</td> \n",
       "</tr>\n",
       "<tr>\n",
       "  <th>converged:</th>           <td>True</td>       <th>  LL-Null:           </th> <td> -7911.2</td> \n",
       "</tr>\n",
       "<tr>\n",
       "  <th> </th>                      <td> </td>        <th>  LLR p-value:       </th> <td>2.073e-89</td>\n",
       "</tr>\n",
       "</table>\n",
       "<table class=\"simpletable\">\n",
       "<tr>\n",
       "      <td></td>         <th>coef</th>     <th>std err</th>      <th>z</th>      <th>P>|z|</th>  <th>[0.025</th>    <th>0.975]</th>  \n",
       "</tr>\n",
       "<tr>\n",
       "  <th>Intercept</th> <td>   -0.3103</td> <td>    0.158</td> <td>   -1.968</td> <td> 0.049</td> <td>   -0.619</td> <td>   -0.001</td>\n",
       "</tr>\n",
       "<tr>\n",
       "  <th>LIMIT_BAL</th> <td>-3.474e-06</td> <td> 1.86e-07</td> <td>  -18.647</td> <td> 0.000</td> <td>-3.84e-06</td> <td>-3.11e-06</td>\n",
       "</tr>\n",
       "<tr>\n",
       "  <th>SEX</th>       <td>   -0.1359</td> <td>    0.041</td> <td>   -3.328</td> <td> 0.001</td> <td>   -0.216</td> <td>   -0.056</td>\n",
       "</tr>\n",
       "<tr>\n",
       "  <th>EDUCATION</th> <td>   -0.1012</td> <td>    0.027</td> <td>   -3.688</td> <td> 0.000</td> <td>   -0.155</td> <td>   -0.047</td>\n",
       "</tr>\n",
       "<tr>\n",
       "  <th>MARRIAGE</th>  <td>   -0.1763</td> <td>    0.042</td> <td>   -4.151</td> <td> 0.000</td> <td>   -0.260</td> <td>   -0.093</td>\n",
       "</tr>\n",
       "<tr>\n",
       "  <th>AGE</th>       <td>    0.0073</td> <td>    0.002</td> <td>    3.078</td> <td> 0.002</td> <td>    0.003</td> <td>    0.012</td>\n",
       "</tr>\n",
       "</table>"
      ],
      "text/plain": [
       "<class 'statsmodels.iolib.summary.Summary'>\n",
       "\"\"\"\n",
       "                           Logit Regression Results                           \n",
       "==============================================================================\n",
       "Dep. Variable:                Default   No. Observations:                15000\n",
       "Model:                          Logit   Df Residuals:                    14994\n",
       "Method:                           MLE   Df Model:                            5\n",
       "Date:                Mon, 22 Oct 2018   Pseudo R-squ.:                 0.02679\n",
       "Time:                        15:43:03   Log-Likelihood:                -7699.2\n",
       "converged:                       True   LL-Null:                       -7911.2\n",
       "                                        LLR p-value:                 2.073e-89\n",
       "==============================================================================\n",
       "                 coef    std err          z      P>|z|      [0.025      0.975]\n",
       "------------------------------------------------------------------------------\n",
       "Intercept     -0.3103      0.158     -1.968      0.049      -0.619      -0.001\n",
       "LIMIT_BAL  -3.474e-06   1.86e-07    -18.647      0.000   -3.84e-06   -3.11e-06\n",
       "SEX           -0.1359      0.041     -3.328      0.001      -0.216      -0.056\n",
       "EDUCATION     -0.1012      0.027     -3.688      0.000      -0.155      -0.047\n",
       "MARRIAGE      -0.1763      0.042     -4.151      0.000      -0.260      -0.093\n",
       "AGE            0.0073      0.002      3.078      0.002       0.003       0.012\n",
       "==============================================================================\n",
       "\"\"\""
      ]
     },
     "execution_count": 22,
     "metadata": {},
     "output_type": "execute_result"
    }
   ],
   "source": [
    "results.summary()"
   ]
  },
  {
   "cell_type": "code",
   "execution_count": 23,
   "metadata": {
    "ExecuteTime": {
     "end_time": "2018-10-22T19:43:03.431369Z",
     "start_time": "2018-10-22T19:43:03.399185Z"
    }
   },
   "outputs": [
    {
     "data": {
      "text/plain": [
       "8951     0.311937\n",
       "16929    0.342192\n",
       "27392    0.260221\n",
       "26357    0.073136\n",
       "29608    0.338112\n",
       "5092     0.070815\n",
       "27932    0.207538\n",
       "13300    0.267215\n",
       "3359     0.236882\n",
       "20360    0.180876\n",
       "18768    0.262254\n",
       "26467    0.258930\n",
       "28728    0.271396\n",
       "10834    0.200500\n",
       "9521     0.213421\n",
       "23611    0.175050\n",
       "27474    0.139557\n",
       "12493    0.334453\n",
       "6696     0.198195\n",
       "17054    0.240447\n",
       "5411     0.226062\n",
       "20867    0.238681\n",
       "12076    0.186069\n",
       "21038    0.205544\n",
       "25589    0.125496\n",
       "12939    0.301408\n",
       "7006     0.150531\n",
       "24146    0.101353\n",
       "5306     0.088208\n",
       "14444    0.083322\n",
       "           ...   \n",
       "27917    0.190065\n",
       "27953    0.263641\n",
       "14956    0.281404\n",
       "15715    0.201497\n",
       "2730     0.257875\n",
       "25085    0.345086\n",
       "12235    0.317047\n",
       "14993    0.141188\n",
       "25845    0.192903\n",
       "6376     0.221373\n",
       "2603     0.134439\n",
       "21199    0.199428\n",
       "27613    0.215053\n",
       "25229    0.241005\n",
       "13500    0.227105\n",
       "3786     0.105184\n",
       "25503    0.178099\n",
       "10208    0.370906\n",
       "18187    0.267698\n",
       "754      0.088598\n",
       "24515    0.233581\n",
       "28529    0.295555\n",
       "15483    0.106001\n",
       "14394    0.108449\n",
       "22737    0.080523\n",
       "22116    0.133945\n",
       "9666     0.255559\n",
       "22127    0.071179\n",
       "13697    0.100850\n",
       "19117    0.307867\n",
       "Length: 15000, dtype: float64"
      ]
     },
     "execution_count": 23,
     "metadata": {},
     "output_type": "execute_result"
    }
   ],
   "source": [
    "#np.exp(results.params)\n",
    "results.predict(train.drop('Default', axis='columns'))"
   ]
  },
  {
   "cell_type": "code",
   "execution_count": 24,
   "metadata": {
    "ExecuteTime": {
     "end_time": "2018-10-22T19:43:03.470412Z",
     "start_time": "2018-10-22T19:43:03.440158Z"
    }
   },
   "outputs": [],
   "source": [
    "res = results.predict(train.drop('Default', axis='columns')) > .5"
   ]
  },
  {
   "cell_type": "code",
   "execution_count": 25,
   "metadata": {
    "ExecuteTime": {
     "end_time": "2018-10-22T19:43:03.580765Z",
     "start_time": "2018-10-22T19:43:03.476814Z"
    }
   },
   "outputs": [],
   "source": [
    "from sklearn.metrics import confusion_matrix\n",
    "\n",
    "tn, fp, fn, tp = confusion_matrix(train['Default'], res).ravel()"
   ]
  },
  {
   "cell_type": "code",
   "execution_count": 26,
   "metadata": {
    "ExecuteTime": {
     "end_time": "2018-10-22T19:43:03.593729Z",
     "start_time": "2018-10-22T19:43:03.586074Z"
    }
   },
   "outputs": [
    {
     "data": {
      "text/plain": [
       "0.7796"
      ]
     },
     "execution_count": 26,
     "metadata": {},
     "output_type": "execute_result"
    }
   ],
   "source": [
    "# TP + TN / TP + FP + TN + FN\n",
    "(tp + tn) / (tp + fp + tn + fn)"
   ]
  },
  {
   "cell_type": "markdown",
   "metadata": {},
   "source": [
    "# Part 4\n",
    "\n",
    "Test the model on the test set\n",
    "- Chart the distribution of the class probabilities from the training set (do\n",
    "a decile plot)\n",
    "- Use the accuracy function from #3 here\n"
   ]
  },
  {
   "cell_type": "code",
   "execution_count": 27,
   "metadata": {
    "ExecuteTime": {
     "end_time": "2018-10-22T19:43:03.710577Z",
     "start_time": "2018-10-22T19:43:03.596409Z"
    }
   },
   "outputs": [
    {
     "data": {
      "text/plain": [
       "0.778"
      ]
     },
     "execution_count": 27,
     "metadata": {},
     "output_type": "execute_result"
    }
   ],
   "source": [
    "res = results.predict(test.drop('Default', axis='columns'))\n",
    "prd = res > .5\n",
    "tn, fp, fn, tp = confusion_matrix(test['Default'], prd).ravel()\n",
    "(tp + tn) / (tp + fp + tn + fn)"
   ]
  },
  {
   "cell_type": "code",
   "execution_count": 28,
   "metadata": {
    "ExecuteTime": {
     "end_time": "2018-10-22T19:43:03.717471Z",
     "start_time": "2018-10-22T19:43:03.713792Z"
    }
   },
   "outputs": [],
   "source": [
    "# x distribution of probability of default"
   ]
  },
  {
   "cell_type": "code",
   "execution_count": 29,
   "metadata": {
    "ExecuteTime": {
     "end_time": "2018-10-22T19:43:03.937348Z",
     "start_time": "2018-10-22T19:43:03.720655Z"
    }
   },
   "outputs": [
    {
     "name": "stderr",
     "output_type": "stream",
     "text": [
      "/home/dchen/anaconda3/lib/python3.6/site-packages/scipy/stats/stats.py:1713: FutureWarning: Using a non-tuple sequence for multidimensional indexing is deprecated; use `arr[tuple(seq)]` instead of `arr[seq]`. In the future this will be interpreted as an array index, `arr[np.array(seq)]`, which will result either in an error or a different result.\n",
      "  return np.add.reduce(sorted[indexer] * weights, axis=axis) / sumval\n"
     ]
    },
    {
     "data": {
      "text/plain": [
       "<matplotlib.axes._subplots.AxesSubplot at 0x7f26cea582b0>"
      ]
     },
     "execution_count": 29,
     "metadata": {},
     "output_type": "execute_result"
    },
    {
     "data": {
      "image/png": "[encoded data removed]",
      "text/plain": [
       "<Figure size 432x288 with 1 Axes>"
      ]
     },
     "metadata": {
      "needs_background": "light"
     },
     "output_type": "display_data"
    }
   ],
   "source": [
    "sns.distplot(res, bins=10)"
   ]
  },
  {
   "cell_type": "code",
   "execution_count": 30,
   "metadata": {
    "ExecuteTime": {
     "end_time": "2018-10-22T19:43:03.950134Z",
     "start_time": "2018-10-22T19:43:03.940691Z"
    }
   },
   "outputs": [
    {
     "data": {
      "text/plain": [
       "19846    0.206044\n",
       "19524    0.173507\n",
       "19630    0.272268\n",
       "7781     0.246945\n",
       "10114    0.276244\n",
       "15951    0.253236\n",
       "20355    0.125751\n",
       "29207    0.216190\n",
       "19825    0.161662\n",
       "1462     0.177455\n",
       "1584     0.288880\n",
       "20738    0.291859\n",
       "3563     0.218472\n",
       "29996    0.212568\n",
       "13310    0.268047\n",
       "26572    0.274291\n",
       "14986    0.284368\n",
       "29540    0.322168\n",
       "27710    0.296849\n",
       "7463     0.108622\n",
       "9684     0.154918\n",
       "13899    0.306043\n",
       "29003    0.081841\n",
       "21627    0.230027\n",
       "15469    0.244897\n",
       "22693    0.113743\n",
       "12935    0.214350\n",
       "14646    0.264234\n",
       "12553    0.222237\n",
       "23960    0.291490\n",
       "           ...   \n",
       "27875    0.210458\n",
       "18223    0.152156\n",
       "18857    0.188943\n",
       "13719    0.295698\n",
       "14073    0.259276\n",
       "18380    0.227986\n",
       "27260    0.276158\n",
       "8052     0.234799\n",
       "14682    0.290860\n",
       "14736    0.260466\n",
       "11045    0.265786\n",
       "4039     0.219107\n",
       "6075     0.334851\n",
       "19276    0.241454\n",
       "14470    0.242781\n",
       "11027    0.133402\n",
       "23510    0.273688\n",
       "5859     0.315968\n",
       "12641    0.190261\n",
       "27150    0.363212\n",
       "3835     0.099154\n",
       "21414    0.170617\n",
       "13459    0.093318\n",
       "16983    0.222456\n",
       "20488    0.172268\n",
       "20971    0.305664\n",
       "1590     0.292118\n",
       "921      0.262225\n",
       "11769    0.221191\n",
       "12312    0.140871\n",
       "Length: 15000, dtype: float64"
      ]
     },
     "execution_count": 30,
     "metadata": {},
     "output_type": "execute_result"
    }
   ],
   "source": [
    "res"
   ]
  },
  {
   "cell_type": "code",
   "execution_count": 31,
   "metadata": {
    "ExecuteTime": {
     "end_time": "2018-10-22T19:43:04.075066Z",
     "start_time": "2018-10-22T19:43:03.952995Z"
    }
   },
   "outputs": [
    {
     "data": {
      "text/plain": [
       "0.778"
      ]
     },
     "execution_count": 31,
     "metadata": {},
     "output_type": "execute_result"
    }
   ],
   "source": [
    "res = results.predict(test.drop('Default', axis='columns'))\n",
    "prd = res > .5\n",
    "tn, fp, fn, tp = confusion_matrix(test['Default'], prd).ravel()\n",
    "(tp + tn) / (tp + fp + tn + fn)"
   ]
  },
  {
   "cell_type": "markdown",
   "metadata": {},
   "source": [
    "# Notes for doing it in sklearn"
   ]
  },
  {
   "cell_type": "code",
   "execution_count": 32,
   "metadata": {
    "ExecuteTime": {
     "end_time": "2018-10-22T19:43:04.088176Z",
     "start_time": "2018-10-22T19:43:04.077988Z"
    }
   },
   "outputs": [],
   "source": [
    "X = df.iloc[:, :-1]\n",
    "y = df.iloc[:, -1]"
   ]
  },
  {
   "cell_type": "code",
   "execution_count": 33,
   "metadata": {
    "ExecuteTime": {
     "end_time": "2018-10-22T19:43:04.138520Z",
     "start_time": "2018-10-22T19:43:04.094188Z"
    }
   },
   "outputs": [],
   "source": [
    "from sklearn.model_selection import train_test_split\n",
    "\n",
    "X_train, X_test, y_train, y_test = train_test_split(\n",
    "    X, y, test_size=0.33, random_state=42, stratify=y)"
   ]
  },
  {
   "cell_type": "code",
   "execution_count": 34,
   "metadata": {
    "ExecuteTime": {
     "end_time": "2018-10-22T19:43:04.234248Z",
     "start_time": "2018-10-22T19:43:04.143064Z"
    }
   },
   "outputs": [],
   "source": [
    "from sklearn.linear_model import LogisticRegression"
   ]
  },
  {
   "cell_type": "code",
   "execution_count": 35,
   "metadata": {
    "ExecuteTime": {
     "end_time": "2018-10-22T19:43:04.293969Z",
     "start_time": "2018-10-22T19:43:04.237685Z"
    }
   },
   "outputs": [],
   "source": [
    "clf = LogisticRegression(random_state=0, solver='lbfgs').fit(X_train, y_train)"
   ]
  },
  {
   "cell_type": "code",
   "execution_count": 36,
   "metadata": {
    "ExecuteTime": {
     "end_time": "2018-10-22T19:43:04.300503Z",
     "start_time": "2018-10-22T19:43:04.296524Z"
    }
   },
   "outputs": [],
   "source": [
    "import numpy as np"
   ]
  },
  {
   "cell_type": "code",
   "execution_count": 37,
   "metadata": {
    "ExecuteTime": {
     "end_time": "2018-10-22T19:43:04.310786Z",
     "start_time": "2018-10-22T19:43:04.304112Z"
    }
   },
   "outputs": [
    {
     "data": {
      "text/plain": [
       "array([[0.99999318, 1.        , 1.        , 1.        , 1.        ]])"
      ]
     },
     "execution_count": 37,
     "metadata": {},
     "output_type": "execute_result"
    }
   ],
   "source": [
    "np.exp(clf.coef_)"
   ]
  },
  {
   "cell_type": "code",
   "execution_count": 38,
   "metadata": {
    "ExecuteTime": {
     "end_time": "2018-10-22T19:43:04.323977Z",
     "start_time": "2018-10-22T19:43:04.317924Z"
    }
   },
   "outputs": [
    {
     "data": {
      "text/plain": [
       "array([[-6.82060255e-06, -1.98423843e-10, -2.44814896e-10,\n",
       "        -2.05590140e-10, -3.83337232e-09]])"
      ]
     },
     "execution_count": 38,
     "metadata": {},
     "output_type": "execute_result"
    }
   ],
   "source": [
    "clf.coef_"
   ]
  },
  {
   "cell_type": "code",
   "execution_count": 39,
   "metadata": {
    "ExecuteTime": {
     "end_time": "2018-10-22T19:43:04.330876Z",
     "start_time": "2018-10-22T19:43:04.327237Z"
    }
   },
   "outputs": [],
   "source": [
    "from sklearn.linear_model import LogisticRegressionCV"
   ]
  },
  {
   "cell_type": "code",
   "execution_count": 40,
   "metadata": {
    "ExecuteTime": {
     "end_time": "2018-10-22T19:43:05.204872Z",
     "start_time": "2018-10-22T19:43:04.333836Z"
    }
   },
   "outputs": [],
   "source": [
    "clf = LogisticRegressionCV(cv=5, random_state=0).fit(X_train, y_train)"
   ]
  },
  {
   "cell_type": "code",
   "execution_count": 41,
   "metadata": {
    "ExecuteTime": {
     "end_time": "2018-10-22T19:43:05.213739Z",
     "start_time": "2018-10-22T19:43:05.207743Z"
    }
   },
   "outputs": [
    {
     "data": {
      "text/plain": [
       "array([-0.000571])"
      ]
     },
     "execution_count": 41,
     "metadata": {},
     "output_type": "execute_result"
    }
   ],
   "source": [
    "clf.intercept_"
   ]
  },
  {
   "cell_type": "code",
   "execution_count": 42,
   "metadata": {
    "ExecuteTime": {
     "end_time": "2018-10-22T19:43:05.224139Z",
     "start_time": "2018-10-22T19:43:05.217226Z"
    }
   },
   "outputs": [
    {
     "data": {
      "text/plain": [
       "array([[-3.73415503e-06, -9.70136342e-04, -1.23775118e-03,\n",
       "        -1.02832313e-03, -1.79308834e-02]])"
      ]
     },
     "execution_count": 42,
     "metadata": {},
     "output_type": "execute_result"
    }
   ],
   "source": [
    "clf.coef_"
   ]
  },
  {
   "cell_type": "code",
   "execution_count": 43,
   "metadata": {
    "ExecuteTime": {
     "end_time": "2018-10-22T19:43:05.234664Z",
     "start_time": "2018-10-22T19:43:05.227773Z"
    }
   },
   "outputs": [
    {
     "data": {
      "text/plain": [
       "array([[0.99999627, 0.99903033, 0.99876301, 0.99897221, 0.98222892]])"
      ]
     },
     "execution_count": 43,
     "metadata": {},
     "output_type": "execute_result"
    }
   ],
   "source": [
    "np.exp(clf.coef_)"
   ]
  },
  {
   "cell_type": "code",
   "execution_count": 44,
   "metadata": {
    "ExecuteTime": {
     "end_time": "2018-10-22T19:43:05.245801Z",
     "start_time": "2018-10-22T19:43:05.238908Z"
    }
   },
   "outputs": [
    {
     "data": {
      "text/plain": [
       "array([0, 0, 0, ..., 0, 0, 0])"
      ]
     },
     "execution_count": 44,
     "metadata": {},
     "output_type": "execute_result"
    }
   ],
   "source": [
    "clf.predict(X_test)"
   ]
  },
  {
   "cell_type": "code",
   "execution_count": 45,
   "metadata": {
    "ExecuteTime": {
     "end_time": "2018-10-22T19:43:05.424488Z",
     "start_time": "2018-10-22T19:43:05.249402Z"
    }
   },
   "outputs": [
    {
     "data": {
      "text/plain": [
       "<matplotlib.axes._subplots.AxesSubplot at 0x7f26ce54bc18>"
      ]
     },
     "execution_count": 45,
     "metadata": {},
     "output_type": "execute_result"
    },
    {
     "data": {
      "image/png": "[encoded data removed]",
      "text/plain": [
       "<Figure size 432x288 with 1 Axes>"
      ]
     },
     "metadata": {
      "needs_background": "light"
     },
     "output_type": "display_data"
    }
   ],
   "source": [
    "sns.countplot(clf.predict(X_test))"
   ]
  },
  {
   "cell_type": "code",
   "execution_count": 46,
   "metadata": {
    "ExecuteTime": {
     "end_time": "2018-10-22T19:43:05.432992Z",
     "start_time": "2018-10-22T19:43:05.427369Z"
    }
   },
   "outputs": [],
   "source": [
    "#qcut"
   ]
  },
  {
   "cell_type": "code",
   "execution_count": 47,
   "metadata": {
    "ExecuteTime": {
     "end_time": "2018-10-22T19:43:05.444383Z",
     "start_time": "2018-10-22T19:43:05.437383Z"
    }
   },
   "outputs": [
    {
     "data": {
      "text/plain": [
       "(9900, 5)"
      ]
     },
     "execution_count": 47,
     "metadata": {},
     "output_type": "execute_result"
    }
   ],
   "source": [
    "X_test.shape"
   ]
  },
  {
   "cell_type": "code",
   "execution_count": 48,
   "metadata": {
    "ExecuteTime": {
     "end_time": "2018-10-22T19:43:05.451368Z",
     "start_time": "2018-10-22T19:43:05.447824Z"
    }
   },
   "outputs": [],
   "source": [
    "p = clf.predict_proba(X_test)"
   ]
  },
  {
   "cell_type": "code",
   "execution_count": 49,
   "metadata": {
    "ExecuteTime": {
     "end_time": "2018-10-22T19:43:05.468744Z",
     "start_time": "2018-10-22T19:43:05.454168Z"
    }
   },
   "outputs": [
    {
     "data": {
      "text/plain": [
       "0       0.748176\n",
       "1       0.818535\n",
       "2       0.607462\n",
       "3       0.658088\n",
       "4       0.818867\n",
       "5       0.770973\n",
       "6       0.790123\n",
       "7       0.787503\n",
       "8       0.830240\n",
       "9       0.809883\n",
       "10      0.746266\n",
       "11      0.764413\n",
       "12      0.723334\n",
       "13      0.758264\n",
       "14      0.701189\n",
       "15      0.659032\n",
       "16      0.658252\n",
       "17      0.733747\n",
       "18      0.863247\n",
       "19      0.758429\n",
       "20      0.686161\n",
       "21      0.706787\n",
       "22      0.668244\n",
       "23      0.763132\n",
       "24      0.716198\n",
       "25      0.702736\n",
       "26      0.866357\n",
       "27      0.655271\n",
       "28      0.726561\n",
       "29      0.896435\n",
       "          ...   \n",
       "9870    0.792436\n",
       "9871    0.671282\n",
       "9872    0.758468\n",
       "9873    0.894108\n",
       "9874    0.804409\n",
       "9875    0.895788\n",
       "9876    0.765817\n",
       "9877    0.675014\n",
       "9878    0.906509\n",
       "9879    0.774689\n",
       "9880    0.740740\n",
       "9881    0.737855\n",
       "9882    0.633711\n",
       "9883    0.741712\n",
       "9884    0.934674\n",
       "9885    0.774748\n",
       "9886    0.838123\n",
       "9887    0.754868\n",
       "9888    0.793555\n",
       "9889    0.704236\n",
       "9890    0.751883\n",
       "9891    0.702181\n",
       "9892    0.839009\n",
       "9893    0.818131\n",
       "9894    0.781533\n",
       "9895    0.931329\n",
       "9896    0.773528\n",
       "9897    0.703361\n",
       "9898    0.842047\n",
       "9899    0.900538\n",
       "Name: 0, Length: 9900, dtype: float64"
      ]
     },
     "execution_count": 49,
     "metadata": {},
     "output_type": "execute_result"
    }
   ],
   "source": [
    "pd.DataFrame(p)[0]"
   ]
  },
  {
   "cell_type": "code",
   "execution_count": 50,
   "metadata": {
    "ExecuteTime": {
     "end_time": "2018-10-22T19:43:05.493530Z",
     "start_time": "2018-10-22T19:43:05.476724Z"
    }
   },
   "outputs": [],
   "source": [
    "cuts = pd.qcut(pd.DataFrame(p)[0],4)"
   ]
  },
  {
   "cell_type": "code",
   "execution_count": 51,
   "metadata": {
    "ExecuteTime": {
     "end_time": "2018-10-22T19:43:05.726345Z",
     "start_time": "2018-10-22T19:43:05.497028Z"
    }
   },
   "outputs": [
    {
     "data": {
      "text/plain": [
       "<matplotlib.axes._subplots.AxesSubplot at 0x7f26ce52b780>"
      ]
     },
     "execution_count": 51,
     "metadata": {},
     "output_type": "execute_result"
    },
    {
     "data": {
      "image/png": "[encoded data removed]",
      "text/plain": [
       "<Figure size 432x288 with 1 Axes>"
      ]
     },
     "metadata": {
      "needs_background": "light"
     },
     "output_type": "display_data"
    }
   ],
   "source": [
    "sns.countplot(cuts)"
   ]
  },
  {
   "cell_type": "code",
   "execution_count": 52,
   "metadata": {
    "ExecuteTime": {
     "end_time": "2018-10-22T19:43:06.026882Z",
     "start_time": "2018-10-22T19:43:05.730846Z"
    }
   },
   "outputs": [
    {
     "name": "stderr",
     "output_type": "stream",
     "text": [
      "/home/dchen/anaconda3/lib/python3.6/site-packages/scipy/stats/stats.py:1713: FutureWarning: Using a non-tuple sequence for multidimensional indexing is deprecated; use `arr[tuple(seq)]` instead of `arr[seq]`. In the future this will be interpreted as an array index, `arr[np.array(seq)]`, which will result either in an error or a different result.\n",
      "  return np.add.reduce(sorted[indexer] * weights, axis=axis) / sumval\n"
     ]
    },
    {
     "data": {
      "text/plain": [
       "<matplotlib.axes._subplots.AxesSubplot at 0x7f26ce477048>"
      ]
     },
     "execution_count": 52,
     "metadata": {},
     "output_type": "execute_result"
    },
    {
     "data": {
      "image/png": "[encoded data removed]",
      "text/plain": [
       "<Figure size 432x288 with 1 Axes>"
      ]
     },
     "metadata": {
      "needs_background": "light"
     },
     "output_type": "display_data"
    }
   ],
   "source": [
    "sns.distplot(pd.DataFrame(p)[0], bins=10)"
   ]
  },
  {
   "cell_type": "code",
   "execution_count": 53,
   "metadata": {
    "ExecuteTime": {
     "end_time": "2018-10-22T19:43:06.034628Z",
     "start_time": "2018-10-22T19:43:06.031439Z"
    }
   },
   "outputs": [],
   "source": [
    "from sklearn.metrics import accuracy_score"
   ]
  },
  {
   "cell_type": "code",
   "execution_count": 54,
   "metadata": {
    "ExecuteTime": {
     "end_time": "2018-10-22T19:43:06.043676Z",
     "start_time": "2018-10-22T19:43:06.037005Z"
    }
   },
   "outputs": [
    {
     "data": {
      "text/plain": [
       "array([0, 0, 0, ..., 0, 0, 0])"
      ]
     },
     "execution_count": 54,
     "metadata": {},
     "output_type": "execute_result"
    }
   ],
   "source": [
    "predictions = clf.predict(X_test)\n",
    "predictions"
   ]
  },
  {
   "cell_type": "code",
   "execution_count": 55,
   "metadata": {
    "ExecuteTime": {
     "end_time": "2018-10-22T19:43:06.054866Z",
     "start_time": "2018-10-22T19:43:06.046817Z"
    }
   },
   "outputs": [
    {
     "data": {
      "text/plain": [
       "0.7787878787878788"
      ]
     },
     "execution_count": 55,
     "metadata": {},
     "output_type": "execute_result"
    }
   ],
   "source": [
    "accuracy_score(y_test, predictions)"
   ]
  },
  {
   "cell_type": "code",
   "execution_count": null,
   "metadata": {},
   "outputs": [],
   "source": []
  }
 ],
 "metadata": {
  "kernelspec": {
   "display_name": "Python 3",
   "language": "python",
   "name": "python3"
  },
  "language_info": {
   "codemirror_mode": {
    "name": "ipython",
    "version": 3
   },
   "file_extension": ".py",
   "mimetype": "text/x-python",
   "name": "python",
   "nbconvert_exporter": "python",
   "pygments_lexer": "ipython3",
   "version": "3.6.6"
  },
  "varInspector": {
   "cols": {
    "lenName": 16,
    "lenType": 16,
    "lenVar": 40
   },
   "kernels_config": {
    "python": {
     "delete_cmd_postfix": "",
     "delete_cmd_prefix": "del ",
     "library": "var_list.py",
     "varRefreshCmd": "print(var_dic_list())"
    },
    "r": {
     "delete_cmd_postfix": ") ",
     "delete_cmd_prefix": "rm(",
     "library": "var_list.r",
     "varRefreshCmd": "cat(var_dic_list()) "
    }
   },
   "types_to_exclude": [
    "module",
    "function",
    "builtin_function_or_method",
    "instance",
    "_Feature"
   ],
   "window_display": false
  }
 },
 "nbformat": 4,
 "nbformat_minor": 2
}
