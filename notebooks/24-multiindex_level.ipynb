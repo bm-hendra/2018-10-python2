{
 "cells": [
  {
   "cell_type": "code",
   "execution_count": 1,
   "metadata": {},
   "outputs": [],
   "source": [
    "import pandas as pd"
   ]
  },
  {
   "cell_type": "code",
   "execution_count": 2,
   "metadata": {},
   "outputs": [],
   "source": [
    "df = pd.read_csv('../data/epi_sim.zip')"
   ]
  },
  {
   "cell_type": "code",
   "execution_count": 3,
   "metadata": {},
   "outputs": [
    {
     "data": {
      "text/plain": [
       "(9434653, 6)"
      ]
     },
     "execution_count": 3,
     "metadata": {},
     "output_type": "execute_result"
    }
   ],
   "source": [
    "df.shape"
   ]
  },
  {
   "cell_type": "code",
   "execution_count": 5,
   "metadata": {},
   "outputs": [
    {
     "data": {
      "text/plain": [
       "rep  intervened  tr      \n",
       "0    8           0.000166          1\n",
       "     9           0.000152          4\n",
       "                 0.000166          5\n",
       "     10          0.000152          6\n",
       "                 0.000166          7\n",
       "     12          0.000152         10\n",
       "                 0.000166         15\n",
       "     13          0.000152         16\n",
       "                 0.000166         19\n",
       "     14          0.000152         22\n",
       "                 0.000166         28\n",
       "     15          0.000152         35\n",
       "                 0.000166         39\n",
       "     16          0.000152         45\n",
       "                 0.000166         58\n",
       "     17          0.000152         67\n",
       "                 0.000166         74\n",
       "     18          0.000152         92\n",
       "                 0.000166        106\n",
       "     19          0.000152        113\n",
       "                 0.000166        129\n",
       "     20          0.000152        152\n",
       "                 0.000166        167\n",
       "     21          0.000152        186\n",
       "                 0.000166        201\n",
       "     22          0.000152        220\n",
       "                 0.000166        256\n",
       "     23          0.000152        285\n",
       "                 0.000166        310\n",
       "     24          0.000152        344\n",
       "                              ...   \n",
       "2    171         0.000135    3509100\n",
       "                 0.000166    3509101\n",
       "     172         0.000152    3509102\n",
       "     173         0.000135    3509104\n",
       "                 0.000166    3509105\n",
       "     174         0.000135    3509107\n",
       "                 0.000166    3509108\n",
       "     175         0.000135    3509109\n",
       "                 0.000152    3509110\n",
       "     177         0.000135    3509111\n",
       "     178         0.000135    3509113\n",
       "                 0.000152    3509114\n",
       "     179         0.000135    3509116\n",
       "     180         0.000135    3509117\n",
       "     181         0.000135    3509118\n",
       "     183         0.000135    3509120\n",
       "     184         0.000152    3509121\n",
       "                 0.000166    3509122\n",
       "     185         0.000166    3509123\n",
       "     186         0.000135    3509124\n",
       "     187         0.000152    3509125\n",
       "                 0.000166    3509126\n",
       "     189         0.000135    3509127\n",
       "                 0.000152    3509128\n",
       "     190         0.000166    3509129\n",
       "     193         0.000135    3509130\n",
       "                 0.000152    3509131\n",
       "     195         0.000135    3509132\n",
       "     198         0.000166    3509133\n",
       "     199         0.000135    3509134\n",
       "Name: ig_type, Length: 1196, dtype: int64"
      ]
     },
     "execution_count": 5,
     "metadata": {},
     "output_type": "execute_result"
    }
   ],
   "source": [
    "(df\n",
    "    .groupby(['rep', 'intervened', 'tr'])['ig_type']\n",
    "    .count()\n",
    "    .groupby(level='rep')\n",
    "    .cumsum()\n",
    ")"
   ]
  },
  {
   "cell_type": "code",
   "execution_count": null,
   "metadata": {},
   "outputs": [],
   "source": []
  }
 ],
 "metadata": {
  "kernelspec": {
   "display_name": "Python 3",
   "language": "python",
   "name": "python3"
  },
  "language_info": {
   "codemirror_mode": {
    "name": "ipython",
    "version": 3
   },
   "file_extension": ".py",
   "mimetype": "text/x-python",
   "name": "python",
   "nbconvert_exporter": "python",
   "pygments_lexer": "ipython3",
   "version": "3.7.0"
  }
 },
 "nbformat": 4,
 "nbformat_minor": 2
}
