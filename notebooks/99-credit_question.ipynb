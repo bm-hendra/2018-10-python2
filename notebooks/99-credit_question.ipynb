{
  "cells": [
    {
      "cell_type": "markdown",
      "source": [
        "- The dataset is of default and non-defaulted payments in Taiwan - subset to use here in our training.\n",
        "- The aim of this exercise is to classify default using the covariates\n",
        "- Use the skills you have learned, and have enough materials to convince your ED (Helene Weiner) this model is fit to share with a client\n",
        "- The winner, based purely on accuracy classification score, will win a tantalizing prize!"
      ],
      "metadata": {}
    },
    {
      "cell_type": "markdown",
      "source": [
        "Data set description:\n",
        "\n",
        "From the UCI Machine Lerning Repository:\n",
        "\n",
        "https://archive.ics.uci.edu/ml/datasets/default+of+credit+card+clients\n",
        "\n",
        "Yeh, I. C., & Lien, C. H. (2009). The comparisons of data mining techniques for the predictive accuracy of probability of default of credit card clients. Expert Systems with Applications, 36(2), 2473-2480.\n",
        "\n",
        "Attribute Information:\n",
        "\n",
        "This research employed a binary variable, default payment (Yes = 1, No = 0), as the response variable. This study reviewed the literature and used the following 23 variables as explanatory variables: \n",
        "\n",
        "- X1: Amount of the given credit (NT dollar): it includes both the individual consumer credit and his/her family (supplementary) credit. \n",
        "- X2: Gender (1 = male; 2 = female). \n",
        "- X3: Education (1 = graduate school; 2 = university; 3 = high school; 4 = others). \n",
        "- X4: Marital status (1 = married; 2 = single; 3 = others). \n",
        "- X5: Age (year). \n",
        "- X6 - X11: History of past payment. We tracked the past monthly payment records (from April to September, 2005) as follows: X6 = the repayment status in September, 2005; X7 = the repayment status in August, 2005; . . .;X11 = the repayment status in April, 2005. The measurement scale for the repayment status is: -1 = pay duly; 1 = payment delay for one month; 2 = payment delay for two months; . . .; 8 = payment delay for eight months; 9 = payment delay for nine months and above. \n",
        "- X12-X17: Amount of bill statement (NT dollar). X12 = amount of bill statement in September, 2005; X13 = amount of bill statement in August, 2005; . . .; X17 = amount of bill statement in April, 2005. \n",
        "- X18-X23: Amount of previous payment (NT dollar). X18 = amount paid in September, 2005; X19 = amount paid in August, 2005; . . .;X23 = amount paid in April, 2005. \n",
        "\n"
      ],
      "metadata": {}
    },
    {
      "cell_type": "markdown",
      "source": [
        "# Part 1\n",
        "\n",
        "Load the data into JupyterLab.\n",
        "\n",
        "- Name the dataset rawdata\n",
        "- Show/plot some summaries of the data that could be useful\n"
      ],
      "metadata": {}
    },
    {
      "cell_type": "code",
      "source": [],
      "outputs": [],
      "execution_count": null,
      "metadata": {
        "ExecuteTime": {
          "end_time": "2018-10-22T19:43:00.866553Z",
          "start_time": "2018-10-22T19:43:00.403944Z"
        }
      }
    },
    {
      "cell_type": "code",
      "source": [],
      "outputs": [],
      "execution_count": null,
      "metadata": {
        "ExecuteTime": {
          "end_time": "2018-10-22T19:43:02.099812Z",
          "start_time": "2018-10-22T19:43:00.868866Z"
        }
      }
    },
    {
      "cell_type": "code",
      "source": [],
      "outputs": [],
      "execution_count": null,
      "metadata": {
        "ExecuteTime": {
          "end_time": "2018-10-22T19:43:02.137742Z",
          "start_time": "2018-10-22T19:43:02.102319Z"
        }
      }
    },
    {
      "cell_type": "code",
      "source": [],
      "outputs": [],
      "execution_count": null,
      "metadata": {
        "ExecuteTime": {
          "end_time": "2018-10-22T19:43:02.157015Z",
          "start_time": "2018-10-22T19:43:02.142098Z"
        }
      }
    },
    {
      "cell_type": "code",
      "source": [],
      "outputs": [],
      "execution_count": null,
      "metadata": {
        "ExecuteTime": {
          "end_time": "2018-10-22T19:43:02.660091Z",
          "start_time": "2018-10-22T19:43:02.160325Z"
        }
      }
    },
    {
      "cell_type": "code",
      "source": [],
      "outputs": [],
      "execution_count": null,
      "metadata": {
        "ExecuteTime": {
          "end_time": "2018-10-22T19:43:02.840362Z",
          "start_time": "2018-10-22T19:43:02.662262Z"
        }
      }
    },
    {
      "cell_type": "code",
      "source": [],
      "outputs": [],
      "execution_count": null,
      "metadata": {
        "ExecuteTime": {
          "end_time": "2018-10-22T19:43:02.852744Z",
          "start_time": "2018-10-22T19:43:02.843344Z"
        }
      }
    },
    {
      "cell_type": "code",
      "source": [],
      "outputs": [],
      "execution_count": null,
      "metadata": {
        "ExecuteTime": {
          "end_time": "2018-10-22T19:43:02.862198Z",
          "start_time": "2018-10-22T19:43:02.856011Z"
        }
      }
    },
    {
      "cell_type": "code",
      "source": [],
      "outputs": [],
      "execution_count": null,
      "metadata": {
        "ExecuteTime": {
          "end_time": "2018-10-22T19:43:02.877353Z",
          "start_time": "2018-10-22T19:43:02.865163Z"
        }
      }
    },
    {
      "cell_type": "code",
      "source": [],
      "outputs": [],
      "execution_count": null,
      "metadata": {
        "ExecuteTime": {
          "end_time": "2018-10-22T19:43:02.894118Z",
          "start_time": "2018-10-22T19:43:02.879987Z"
        }
      }
    },
    {
      "cell_type": "code",
      "source": [],
      "outputs": [],
      "execution_count": null,
      "metadata": {
        "ExecuteTime": {
          "end_time": "2018-10-22T19:43:02.901381Z",
          "start_time": "2018-10-22T19:43:02.898136Z"
        }
      }
    },
    {
      "cell_type": "code",
      "source": [],
      "outputs": [],
      "execution_count": null,
      "metadata": {
        "ExecuteTime": {
          "end_time": "2018-10-22T19:43:02.912264Z",
          "start_time": "2018-10-22T19:43:02.905181Z"
        }
      }
    },
    {
      "cell_type": "code",
      "source": [],
      "outputs": [],
      "execution_count": null,
      "metadata": {
        "ExecuteTime": {
          "end_time": "2018-10-22T19:43:03.152635Z",
          "start_time": "2018-10-22T19:43:02.916053Z"
        }
      }
    },
    {
      "cell_type": "code",
      "source": [],
      "outputs": [],
      "execution_count": null,
      "metadata": {
        "ExecuteTime": {
          "end_time": "2018-10-22T19:43:03.158752Z",
          "start_time": "2018-10-22T19:43:03.155410Z"
        }
      }
    },
    {
      "cell_type": "code",
      "source": [],
      "outputs": [],
      "execution_count": null,
      "metadata": {
        "ExecuteTime": {
          "end_time": "2018-10-22T19:43:03.202978Z",
          "start_time": "2018-10-22T19:43:03.161416Z"
        }
      }
    },
    {
      "cell_type": "markdown",
      "source": [
        "# Part 2\n",
        "\n",
        "Subset the data into a training (50%) and test set (50%)\n",
        "\n",
        "- Name them train and test\n",
        "- Show some summaries of the test and train dataset\n"
      ],
      "metadata": {}
    },
    {
      "cell_type": "code",
      "source": [],
      "outputs": [],
      "execution_count": null,
      "metadata": {
        "ExecuteTime": {
          "end_time": "2018-10-22T19:43:03.216193Z",
          "start_time": "2018-10-22T19:43:03.209559Z"
        }
      }
    },
    {
      "cell_type": "code",
      "source": [],
      "outputs": [],
      "execution_count": null,
      "metadata": {
        "ExecuteTime": {
          "end_time": "2018-10-22T19:43:03.225532Z",
          "start_time": "2018-10-22T19:43:03.219424Z"
        }
      }
    },
    {
      "cell_type": "code",
      "source": [],
      "outputs": [],
      "execution_count": null,
      "metadata": {
        "ExecuteTime": {
          "end_time": "2018-10-22T19:43:03.233892Z",
          "start_time": "2018-10-22T19:43:03.229298Z"
        }
      }
    },
    {
      "cell_type": "code",
      "source": [],
      "outputs": [],
      "execution_count": null,
      "metadata": {
        "ExecuteTime": {
          "end_time": "2018-10-22T19:43:03.242624Z",
          "start_time": "2018-10-22T19:43:03.237595Z"
        }
      }
    },
    {
      "cell_type": "markdown",
      "source": [
        "# Part 3\n",
        "\n",
        "Build a logistic regression model on the defaults\n",
        "- What are the coefficients you picked?\n",
        "- Are they significant?\n",
        "- Create a function to calculate accuracy (TP + TN / TP + FP + FN + TN)\n"
      ],
      "metadata": {}
    },
    {
      "cell_type": "code",
      "source": [],
      "outputs": [],
      "execution_count": null,
      "metadata": {
        "ExecuteTime": {
          "end_time": "2018-10-22T19:43:03.255033Z",
          "start_time": "2018-10-22T19:43:03.246453Z"
        }
      }
    },
    {
      "cell_type": "code",
      "source": [],
      "outputs": [],
      "execution_count": null,
      "metadata": {
        "ExecuteTime": {
          "end_time": "2018-10-22T19:43:03.314333Z",
          "start_time": "2018-10-22T19:43:03.258204Z"
        }
      }
    },
    {
      "cell_type": "code",
      "source": [],
      "outputs": [],
      "execution_count": null,
      "metadata": {
        "ExecuteTime": {
          "end_time": "2018-10-22T19:43:03.386786Z",
          "start_time": "2018-10-22T19:43:03.317760Z"
        }
      }
    },
    {
      "cell_type": "code",
      "source": [],
      "outputs": [],
      "execution_count": null,
      "metadata": {
        "ExecuteTime": {
          "end_time": "2018-10-22T19:43:03.431369Z",
          "start_time": "2018-10-22T19:43:03.399185Z"
        }
      }
    },
    {
      "cell_type": "code",
      "source": [],
      "outputs": [],
      "execution_count": null,
      "metadata": {
        "ExecuteTime": {
          "end_time": "2018-10-22T19:43:03.470412Z",
          "start_time": "2018-10-22T19:43:03.440158Z"
        }
      }
    },
    {
      "cell_type": "code",
      "source": [],
      "outputs": [],
      "execution_count": null,
      "metadata": {
        "ExecuteTime": {
          "end_time": "2018-10-22T19:43:03.580765Z",
          "start_time": "2018-10-22T19:43:03.476814Z"
        }
      }
    },
    {
      "cell_type": "code",
      "source": [],
      "outputs": [],
      "execution_count": null,
      "metadata": {
        "ExecuteTime": {
          "end_time": "2018-10-22T19:43:03.593729Z",
          "start_time": "2018-10-22T19:43:03.586074Z"
        }
      }
    },
    {
      "cell_type": "markdown",
      "source": [
        "# Part 4\n",
        "\n",
        "Test the model on the test set\n",
        "- Chart the distribution of the class probabilities from the training set (do\n",
        "a decile plot)\n",
        "- Use the accuracy function from #3 here\n"
      ],
      "metadata": {}
    },
    {
      "cell_type": "code",
      "source": [],
      "outputs": [],
      "execution_count": null,
      "metadata": {
        "ExecuteTime": {
          "end_time": "2018-10-22T19:43:03.710577Z",
          "start_time": "2018-10-22T19:43:03.596409Z"
        }
      }
    },
    {
      "cell_type": "code",
      "source": [],
      "outputs": [],
      "execution_count": null,
      "metadata": {
        "ExecuteTime": {
          "end_time": "2018-10-22T19:43:03.717471Z",
          "start_time": "2018-10-22T19:43:03.713792Z"
        }
      }
    },
    {
      "cell_type": "code",
      "source": [],
      "outputs": [],
      "execution_count": null,
      "metadata": {
        "ExecuteTime": {
          "end_time": "2018-10-22T19:43:03.937348Z",
          "start_time": "2018-10-22T19:43:03.720655Z"
        }
      }
    },
    {
      "cell_type": "code",
      "source": [],
      "outputs": [],
      "execution_count": null,
      "metadata": {
        "ExecuteTime": {
          "end_time": "2018-10-22T19:43:03.950134Z",
          "start_time": "2018-10-22T19:43:03.940691Z"
        }
      }
    },
    {
      "cell_type": "code",
      "source": [],
      "outputs": [],
      "execution_count": null,
      "metadata": {
        "ExecuteTime": {
          "end_time": "2018-10-22T19:43:04.075066Z",
          "start_time": "2018-10-22T19:43:03.952995Z"
        }
      }
    }
  ],
  "metadata": {
    "kernelspec": {
      "name": "python3",
      "language": "python",
      "display_name": "Python 3"
    },
    "language_info": {
      "name": "python",
      "version": "3.7.0",
      "mimetype": "text/x-python",
      "codemirror_mode": {
        "name": "ipython",
        "version": 3
      },
      "pygments_lexer": "ipython3",
      "nbconvert_exporter": "python",
      "file_extension": ".py"
    },
    "varInspector": {
      "cols": {
        "lenName": 16,
        "lenType": 16,
        "lenVar": 40
      },
      "kernels_config": {
        "python": {
          "delete_cmd_postfix": "",
          "delete_cmd_prefix": "del ",
          "library": "var_list.py",
          "varRefreshCmd": "print(var_dic_list())"
        },
        "r": {
          "delete_cmd_postfix": ") ",
          "delete_cmd_prefix": "rm(",
          "library": "var_list.r",
          "varRefreshCmd": "cat(var_dic_list()) "
        }
      },
      "types_to_exclude": [
        "module",
        "function",
        "builtin_function_or_method",
        "instance",
        "_Feature"
      ],
      "window_display": false
    },
    "kernel_info": {
      "name": "python3"
    },
    "nteract": {
      "version": "0.12.2"
    }
  },
  "nbformat": 4,
  "nbformat_minor": 2
}